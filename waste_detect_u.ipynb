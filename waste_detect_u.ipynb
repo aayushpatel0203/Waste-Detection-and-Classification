{
 "cells": [
  {
   "cell_type": "code",
   "execution_count": 19,
   "metadata": {},
   "outputs": [],
   "source": [
    "import cv2\n",
    "import math\n",
    "import cvzone\n",
    "from ultralytics import YOLO\n",
    "import pandas as pd\n",
    "import yaml\n",
    "from collections import defaultdict\n",
    "from sklearn.metrics import accuracy_score"
   ]
  },
  {
   "cell_type": "code",
   "execution_count": 20,
   "metadata": {},
   "outputs": [],
   "source": [
    "waste_categories = {\n",
    "    \"Recyclable\": {\n",
    "        \"Dry Waste\": [\"aluminum\", \"cardboard\", \"paper\", \"glass bottle\", \"plastic bag\", \"plastic bottle\", \"plastic container\", \"plastic straw\"],\n",
    "        \"E-Waste\": [\"Keyboard\", \"Mobile Phone\", \"Monitor\"]\n",
    "    },\n",
    "    \"Non-Recyclable\": {\n",
    "        \"Wet Waste\": [\"egg shell\", \"facemask\", \"food wrapper\", \"fruit peels\", \"treeleaves\", \"vegetable peels\"]\n",
    "    }\n",
    "}"
   ]
  },
  {
   "cell_type": "code",
   "execution_count": 21,
   "metadata": {},
   "outputs": [],
   "source": [
    "# Load YOLO model\n",
    "model = YOLO(\"D:/Waste_Detection_New/best_0.pt\")"
   ]
  },
  {
   "cell_type": "code",
   "execution_count": 22,
   "metadata": {},
   "outputs": [],
   "source": [
    "# Load image\n",
    "image_path = \"D:\\\\Waste_Detection_New\\\\test\\\\images\\\\glass234_jpg.rf.9ce68d8fc0d788066e2975ebe99b027f.jpg\"  \n",
    "image = cv2.imread(image_path)"
   ]
  },
  {
   "cell_type": "code",
   "execution_count": 23,
   "metadata": {},
   "outputs": [],
   "source": [
    "# Initialize waste summary dictionary\n",
    "waste_summary = {\"Recyclable\": {\"Dry Waste\": defaultdict(int), \"E-Waste\": defaultdict(int)}, \"Non-Recyclable\": {\"Wet Waste\": defaultdict(int)}}"
   ]
  },
  {
   "cell_type": "code",
   "execution_count": 24,
   "metadata": {},
   "outputs": [],
   "source": [
    "# Accuracy calculation variables\n",
    "correct_predictions = 0\n",
    "total_predictions = 0"
   ]
  },
  {
   "cell_type": "code",
   "execution_count": 25,
   "metadata": {},
   "outputs": [],
   "source": [
    "# Object tracking setup\n",
    "object_tracker = {}  # Track detected objects"
   ]
  },
  {
   "cell_type": "code",
   "execution_count": 26,
   "metadata": {},
   "outputs": [
    {
     "name": "stdout",
     "output_type": "stream",
     "text": [
      "\n",
      "0: 640x640 2 glass bottles, 647.5ms\n",
      "Speed: 4.0ms preprocess, 647.5ms inference, 3.0ms postprocess per image at shape (1, 3, 640, 640)\n"
     ]
    }
   ],
   "source": [
    "# Run YOLOv8 detection on image\n",
    "results = model(image)\n",
    "predicted_labels = []"
   ]
  },
  {
   "cell_type": "code",
   "execution_count": 27,
   "metadata": {},
   "outputs": [],
   "source": [
    "for r in results:\n",
    "    for box in r.boxes:\n",
    "        class_id = int(box.cls[0])\n",
    "        label = model.names[class_id]\n",
    "        conf = box.conf[0].item()  # Confidence score\n",
    "        predicted_labels.append(label)\n",
    "        \n",
    "        # Classify detected waste using static dictionary\n",
    "        for category, subcategories in waste_categories.items():\n",
    "            for subcategory, items in subcategories.items():\n",
    "                if label in items:\n",
    "                    waste_summary[category][subcategory][label] += 1\n",
    "        \n",
    "        # Draw bounding box and label on image\n",
    "        x1, y1, x2, y2 = map(int, box.xyxy[0])\n",
    "        cv2.rectangle(image, (x1, y1), (x2, y2), (0, 255, 0), 2)\n",
    "        cv2.putText(image, f\"{label} {conf:.2f}\", (x1, y1 - 10),\n",
    "                    cv2.FONT_HERSHEY_SIMPLEX, 0.5, (0, 255, 0), 2)\n",
    "        \n",
    "# Compare predictions with tracked objects\n",
    "if len(object_tracker) == 0:\n",
    "    object_tracker = {label: 1 for label in predicted_labels}  # First frame as reference\n",
    "    \n",
    "for label in predicted_labels:\n",
    "    if label in object_tracker:\n",
    "        correct_predictions += 1\n",
    "    total_predictions += 1\n",
    "    \n",
    "# Calculate accuracy\n",
    "image_accuracy = (correct_predictions / total_predictions) * 100 if total_predictions > 0 else 0"
   ]
  },
  {
   "cell_type": "code",
   "execution_count": 28,
   "metadata": {},
   "outputs": [],
   "source": [
    "# Save accuracy to CSV\n",
    "accuracy_data = pd.DataFrame({'Metric': ['Image Accuracy'], 'Value': [image_accuracy]})\n",
    "accuracy_data.to_csv(\"image_model_accuracy.csv\", index=False)"
   ]
  },
  {
   "cell_type": "code",
   "execution_count": 29,
   "metadata": {},
   "outputs": [],
   "source": [
    "# Generate structured summary table\n",
    "summary_list = []\n",
    "for category, subcategories in waste_summary.items():\n",
    "    for subcategory, items in subcategories.items():\n",
    "        for item, count in items.items():\n",
    "            summary_list.append([category, subcategory, item, count])\n",
    "\n",
    "waste_df = pd.DataFrame(summary_list, columns=[\"Category\", \"Subcategory\", \"Waste Type\", \"Count\"])"
   ]
  },
  {
   "cell_type": "code",
   "execution_count": 30,
   "metadata": {},
   "outputs": [],
   "source": [
    "# Append accuracy to summary\n",
    "accuracy_row = pd.DataFrame([[\"Model Performance\", \"\", \"Accuracy\", image_accuracy]], columns=[\"Category\", \"Subcategory\", \"Waste Type\", \"Count\"])\n",
    "waste_df = pd.concat([waste_df, accuracy_row], ignore_index=True)\n",
    "waste_df.to_csv(\"waste_summary.csv\", index=False)"
   ]
  },
  {
   "cell_type": "code",
   "execution_count": 31,
   "metadata": {},
   "outputs": [],
   "source": [
    "# Show detection image\n",
    "cv2.imshow(\"Waste Detection\", image)\n",
    "cv2.waitKey(0)\n",
    "cv2.destroyAllWindows()"
   ]
  },
  {
   "cell_type": "code",
   "execution_count": 32,
   "metadata": {},
   "outputs": [
    {
     "name": "stdout",
     "output_type": "stream",
     "text": [
      "Final Waste Classification Summary:\n",
      "            Category Subcategory    Waste Type  Count\n",
      "0         Recyclable   Dry Waste  glass bottle    2.0\n",
      "1  Model Performance                  Accuracy  100.0\n",
      "Image Model Accuracy: 100.0 %\n"
     ]
    }
   ],
   "source": [
    "# Print final structured summary\n",
    "print(\"Final Waste Classification Summary:\")\n",
    "print(waste_df)\n",
    "print(\"Image Model Accuracy:\", image_accuracy, \"%\")"
   ]
  },
  {
   "cell_type": "code",
   "execution_count": null,
   "metadata": {},
   "outputs": [],
   "source": []
  },
  {
   "cell_type": "code",
   "execution_count": null,
   "metadata": {},
   "outputs": [],
   "source": []
  }
 ],
 "metadata": {
  "kernelspec": {
   "display_name": "Python 3",
   "language": "python",
   "name": "python3"
  },
  "language_info": {
   "codemirror_mode": {
    "name": "ipython",
    "version": 3
   },
   "file_extension": ".py",
   "mimetype": "text/x-python",
   "name": "python",
   "nbconvert_exporter": "python",
   "pygments_lexer": "ipython3",
   "version": "3.12.7"
  }
 },
 "nbformat": 4,
 "nbformat_minor": 2
}
